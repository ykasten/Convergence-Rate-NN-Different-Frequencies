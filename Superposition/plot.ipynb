{
 "cells": [
  {
   "cell_type": "code",
   "execution_count": null,
   "metadata": {},
   "outputs": [],
   "source": [
    "import matplotlib\n",
    "%matplotlib inline\n",
    "import matplotlib.pyplot as plt\n",
    "import numpy as np\n",
    "import numpy.random as rn\n",
    "import os\n",
    "import pandas as pd\n",
    "import sys\n",
    "from scipy.io import savemat\n",
    "import time"
   ]
  },
  {
   "cell_type": "code",
   "execution_count": null,
   "metadata": {},
   "outputs": [],
   "source": [
    "filename = 'results/superposition_k14_k214_depth3'\n",
    "res_f = '%s.pkl' % filename\n",
    "results = pd.read_pickle(res_f)"
   ]
  },
  {
   "cell_type": "code",
   "execution_count": null,
   "metadata": {},
   "outputs": [],
   "source": [
    "# config pyplot\n",
    "\n",
    "save_fig = True\n",
    "fs = 22\n",
    "matplotlib.rcParams.update({'font.size': fs})\n",
    "plt.rcParams[\"figure.figsize\"] = (12,8)\n",
    "matplotlib.rcParams.update({'axes.grid' : True})"
   ]
  },
  {
   "cell_type": "code",
   "execution_count": null,
   "metadata": {},
   "outputs": [],
   "source": [
    "epochs = results['snapshot_epochs'][0]\n",
    "n_epochs = len(epochs)\n",
    "\n",
    "fig_save_name = filename\n",
    "\n",
    "theta_train = results['theta_train'][0].reshape(-1)\n",
    "inds = np.argsort(theta_train)\n",
    "y_train_sorted = results['y_train'][0].reshape(-1)[inds]\n",
    "theta_train_sorted = theta_train[inds]\n",
    "outputs = results['snapshot_train_outputs'][0].reshape((n_epochs, -1))\n",
    "\n",
    "plt.figure(figsize=(20,6))\n",
    "plot_epochs = epochs\n",
    "num = len(plot_epochs)\n",
    "\n",
    "fig, axes = plt.subplots(figsize=(4*num, 4), nrows=1, ncols=num)\n",
    "#fig.tight_layout(h_pad = 2)\n",
    "matlab_outputs = np.empty((num, len(inds)))\n",
    "\n",
    "for i_plot, ep in enumerate(plot_epochs):\n",
    "    ax = axes[i_plot]\n",
    "    i_ep = np.where(epochs == ep)[0]\n",
    "    matlab_outputs[i_plot, :] = outputs[i_ep, inds]\n",
    "    ax.plot(theta_train_sorted, y_train_sorted, '-', linewidth = 2, color = [.55,.65,.9])\n",
    "    ax.plot(theta_train_sorted, outputs[i_ep, inds], '-', linewidth = 5, color = [.1,.1,.5])\n",
    "#     ax.plot(theta_train_sorted, y_train_sorted, '-', linewidth = 2, color = [.95,.75,.5])\n",
    "#     ax.plot(theta_train_sorted, outputs[i_ep, inds], '-', linewidth = 5, color = [1,.5,.0])\n",
    "    #ax.plot(theta_train_sorted, outputs[i_ep, inds], '-', linewidth = 5, color = 'darkorange')\n",
    "    ax.set_title('Epoch = %d' % ep)\n",
    "    ax.set_xticks([])\n",
    "    ax.set_yticks([])\n",
    "\n",
    "if save_fig: \n",
    "    plt.savefig('figures/superposition.jpg', format='jpg')\n",
    "    savemat('../mat_plotting/results/superposition.mat', {'train_theta' : theta_train_sorted, 'train_y' : y_train_sorted, 'train_output' : matlab_outputs, 'epochs' : plot_epochs})"
   ]
  }
 ],
 "metadata": {
  "kernelspec": {
   "display_name": "Python 3",
   "language": "python",
   "name": "python3"
  },
  "language_info": {
   "codemirror_mode": {
    "name": "ipython",
    "version": 3
   },
   "file_extension": ".py",
   "mimetype": "text/x-python",
   "name": "python",
   "nbconvert_exporter": "python",
   "pygments_lexer": "ipython3",
   "version": "3.6.6"
  }
 },
 "nbformat": 4,
 "nbformat_minor": 2
}
