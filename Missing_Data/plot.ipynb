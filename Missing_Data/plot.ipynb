{
 "cells": [
  {
   "cell_type": "code",
   "execution_count": null,
   "metadata": {},
   "outputs": [],
   "source": [
    "import matplotlib\n",
    "import matplotlib.pyplot as plt\n",
    "import numpy as np\n",
    "import numpy.random as rn\n",
    "import os\n",
    "import pandas as pd\n",
    "from scipy.io import savemat\n",
    "import sys\n",
    "import time"
   ]
  },
  {
   "cell_type": "code",
   "execution_count": null,
   "metadata": {},
   "outputs": [],
   "source": [
    "name = 'missing_data_k6_n32_epochs300000'\n",
    "\n",
    "fs = 22\n",
    "matplotlib.rcParams.update({'font.size': fs})\n",
    "\n",
    "results = pd.read_pickle('results/' + name + '.pkl')\n",
    "train_output = results['train_output'][0]\n",
    "theta_train = results['theta_train'][0]\n",
    "y_train = results['y_train'][0]\n",
    "theta_plot = results['theta_plot'][0]\n",
    "plot_output = results['plot_output'][0]\n",
    "\n",
    "plt.figure(figsize = [12,6])\n",
    "plt.plot(theta_plot, plot_output, '-', label = 'network output', color = 'darkorange', linewidth = 3.5)\n",
    "plt.plot(theta_train, y_train, '.', label = 'training points', markersize = 24, color = '.25', markeredgecolor = 'k')\n",
    "plt.xlabel(r'$\\theta$')\n",
    "plt.ylabel(r'$f(\\theta;W,\\mathbf{a})$')\n",
    "plt.gcf().subplots_adjust(bottom = .18)\n",
    "\n",
    "save = input('enter s to save')\n",
    "if save == 's':\n",
    "    plt.savefig('figures/' + name + '.jpg', format='jpg')\n",
    "    savemat('../mat_plotting/results/missing_data.mat', {'plot_theta' : theta_plot, 'plot_output' : plot_output, \n",
    "                                            'train_theta' : theta_train, 'train_y' : y_train})"
   ]
  }
 ],
 "metadata": {
  "kernelspec": {
   "display_name": "Python 3",
   "language": "python",
   "name": "python3"
  },
  "language_info": {
   "codemirror_mode": {
    "name": "ipython",
    "version": 3
   },
   "file_extension": ".py",
   "mimetype": "text/x-python",
   "name": "python",
   "nbconvert_exporter": "python",
   "pygments_lexer": "ipython3",
   "version": "3.6.6"
  }
 },
 "nbformat": 4,
 "nbformat_minor": 2
}
